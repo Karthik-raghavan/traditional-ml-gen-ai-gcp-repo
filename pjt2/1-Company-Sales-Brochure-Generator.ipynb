{
 "cells": [
  {
   "cell_type": "code",
   "execution_count": 7,
   "id": "c163335b-8398-4452-a473-9da0dff08de4",
   "metadata": {},
   "outputs": [],
   "source": [
    "from openai import OpenAI\n",
    "from dotenv import load_dotenv\n",
    "import os\n",
    "from bs4 import BeautifulSoup\n",
    "from IPython.display import Markdown, display, update_display\n",
    "import json\n",
    "import requests\n",
    "from typing import List\n",
    "\n",
    "load_dotenv()\n",
    "api_key = os.getenv(\"OPENAI_API_KEY\")\n",
    "client = OpenAI(api_key=api_key)"
   ]
  },
  {
   "cell_type": "code",
   "execution_count": 8,
   "id": "dae17792-4ce7-44ba-bbdf-5f9b9781513d",
   "metadata": {},
   "outputs": [],
   "source": [
    "model = \"gpt-4o-mini\""
   ]
  },
  {
   "cell_type": "code",
   "execution_count": 11,
   "id": "97b2963b-9ed1-4303-b261-c55068719872",
   "metadata": {},
   "outputs": [],
   "source": [
    "website = \"https://edwarddonner.com\"\n",
    "def website_scraper(website):\n",
    "    response = requests.get(website)\n",
    "    soup = BeautifulSoup(response.content,\"html.parser\")\n",
    "    title = soup.title.string if soup.title else \"No title found\"\n",
    "    if soup.body:\n",
    "        for irrelavant in soup.body([\"script\",\"style\",\"img\",\"input\"]):\n",
    "            irrelavant.decompose()\n",
    "        text = soup.body.get_text(separator=\"\\n\",strip = True)\n",
    "    else:\n",
    "        text = \"\"\n",
    "        links = [link.get('href') for link in soup.findall('a')]\n",
    "        links = [link for link in links if link]\n",
    "    return title, text, links\n",
    "def get_contents(title, text):\n",
    "    return f\"Webpage Title:\\n{title}\\nWebpage Contents:\\n{text}\\n\\n\""
   ]
  },
  {
   "cell_type": "code",
   "execution_count": 12,
   "id": "ce6cfa9b-20a0-4786-b314-63b3181446ef",
   "metadata": {},
   "outputs": [
    {
     "ename": "NameError",
     "evalue": "name 'title' is not defined",
     "output_type": "error",
     "traceback": [
      "\u001b[31m---------------------------------------------------------------------------\u001b[39m",
      "\u001b[31mNameError\u001b[39m                                 Traceback (most recent call last)",
      "\u001b[36mCell\u001b[39m\u001b[36m \u001b[39m\u001b[32mIn[12]\u001b[39m\u001b[32m, line 1\u001b[39m\n\u001b[32m----> \u001b[39m\u001b[32m1\u001b[39m get_contents(\u001b[43mtitle\u001b[49m, text)\n",
      "\u001b[31mNameError\u001b[39m: name 'title' is not defined"
     ]
    }
   ],
   "source": [
    "get_contents(title, text)"
   ]
  },
  {
   "cell_type": "code",
   "execution_count": null,
   "id": "c35ebdfb-1971-4642-94a2-048f8a49973e",
   "metadata": {},
   "outputs": [],
   "source": [
    "title, text,links = website_scraper(website)"
   ]
  },
  {
   "cell_type": "code",
   "execution_count": null,
   "id": "d3462db3-e0e7-42bb-b097-8057e8c9ee27",
   "metadata": {},
   "outputs": [],
   "source": [
    "system_prompt = \"\"\"You are an AI assistant which analyzes the contents of a website and provides a short summary, ignoring text that might be navigation related.Respond in Markdown\"\"\"\n",
    "user_prompt = f\"\"\"You are currently looking at {title}. The contents of the website is as follows;Please provide a short summary of this website in markdown.If it includes news or annoucements, then summarize these too.{text}\"\"\""
   ]
  },
  {
   "cell_type": "code",
   "execution_count": null,
   "id": "ccfcd9a3-79c9-41d4-b0c0-f0054d4f3ff9",
   "metadata": {},
   "outputs": [],
   "source": [
    "messages = [\n",
    "    {\"role\":\"system\",\"content\":system_prompt},\n",
    "    {\"role\":\"user\",\"content\":user_prompt}\n",
    "]"
   ]
  },
  {
   "cell_type": "code",
   "execution_count": null,
   "id": "02669893-3397-4281-beda-36e7e4e4a35f",
   "metadata": {},
   "outputs": [],
   "source": [
    "# Api call\n",
    "\n",
    "response = client.chat.completions.create(\n",
    "    model=\"gpt-4o-mini\",messages=messages)\n",
    "\n",
    "\n",
    "print(response.choices[0].message.content)"
   ]
  },
  {
   "cell_type": "code",
   "execution_count": null,
   "id": "ed63bfc1-013a-4843-aacb-d31c00c64c2a",
   "metadata": {},
   "outputs": [],
   "source": []
  },
  {
   "cell_type": "code",
   "execution_count": null,
   "id": "67c7ea1b-fc8d-42d3-b35b-1e10b0fb4daf",
   "metadata": {},
   "outputs": [],
   "source": []
  }
 ],
 "metadata": {
  "kernelspec": {
   "display_name": "Python 3 (ipykernel)",
   "language": "python",
   "name": "python3"
  },
  "language_info": {
   "codemirror_mode": {
    "name": "ipython",
    "version": 3
   },
   "file_extension": ".py",
   "mimetype": "text/x-python",
   "name": "python",
   "nbconvert_exporter": "python",
   "pygments_lexer": "ipython3",
   "version": "3.13.7"
  }
 },
 "nbformat": 4,
 "nbformat_minor": 5
}
