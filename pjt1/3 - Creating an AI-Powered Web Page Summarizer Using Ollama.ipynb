{
 "cells": [
  {
   "cell_type": "code",
   "execution_count": 1,
   "id": "266aa6b0-8664-4ceb-95d8-e2bb462efb42",
   "metadata": {},
   "outputs": [],
   "source": [
    "# Importing Required Libraries\n",
    "\n",
    "import os\n",
    "import requests\n",
    "from dotenv import load_dotenv\n",
    "from bs4 import BeautifulSoup\n",
    "from IPython.display import Markdown, display\n",
    "import ollama"
   ]
  },
  {
   "cell_type": "code",
   "execution_count": 3,
   "id": "52af7faa-f404-48f7-97f4-66cad30eec3a",
   "metadata": {},
   "outputs": [],
   "source": [
    "# Calling Open AI API\n",
    "client = ollama"
   ]
  },
  {
   "cell_type": "code",
   "execution_count": 4,
   "id": "1502a2e2-e9cf-4841-8fe1-7eea7a2e13ae",
   "metadata": {},
   "outputs": [],
   "source": [
    "website = \"https://edwarddonner.com\"\n",
    "def website_scraper(website):\n",
    "    response = requests.get(website)\n",
    "    soup = BeautifulSoup(response.content,\"html.parser\")\n",
    "    title = soup.title.string if soup.title else \"No title found\"\n",
    "    for irrelavant in soup.body([\"script\",\"style\",\"img\",\"input\"]):\n",
    "        irrelavant.decompose()\n",
    "    text = soup.body.get_text(separator=\"\\n\",strip = True)\n",
    "    return title, text"
   ]
  },
  {
   "cell_type": "code",
   "execution_count": 5,
   "id": "6cffef8d-ea1a-48cb-bb28-97523f952af7",
   "metadata": {},
   "outputs": [],
   "source": [
    "title, text = website_scraper(website)"
   ]
  },
  {
   "cell_type": "code",
   "execution_count": 6,
   "id": "dcd22e25-73a7-4b6f-a140-f7e4d3e2fca4",
   "metadata": {},
   "outputs": [
    {
     "name": "stdout",
     "output_type": "stream",
     "text": [
      "Home - Edward Donner\n",
      "Home\n",
      "Connect Four\n",
      "Outsmart\n",
      "An arena that pits LLMs against each other in a battle of diplomacy and deviousness\n",
      "About\n",
      "Posts\n",
      "Well, hi there.\n",
      "I’m Ed. I like writing code and experimenting with LLMs, and hopefully you’re here because you do too. I also enjoy DJing (but I’m badly out of practice), amateur electronic music production (\n",
      "very\n",
      "amateur) and losing myself in\n",
      "Hacker News\n",
      ", nodding my head sagely to things I only half understand.\n",
      "I’m the co-founder and CTO of\n",
      "Nebula.io\n",
      ". We’re applying AI to a field where it can make a massive, positive impact: helping people discover their potential and pursue their reason for being. Recruiters use our product today to source, understand, engage and manage talent. I’m previously the founder and CEO of AI startup untapt,\n",
      "acquired in 2021\n",
      ".\n",
      "We work with groundbreaking, proprietary LLMs verticalized for talent, we’ve\n",
      "patented\n",
      "our matching model, and our award-winning platform has happy customers and tons of press coverage.\n",
      "Connect\n",
      "with me for more!\n",
      "May 28, 2025\n",
      "Connecting my courses – become an LLM expert and leader\n",
      "May 18, 2025\n",
      "2025 AI Executive Briefing\n",
      "April 21, 2025\n",
      "The Complete Agentic AI Engineering Course\n",
      "January 23, 2025\n",
      "LLM Workshop – Hands-on with Agents – resources\n",
      "Navigation\n",
      "Home\n",
      "Connect Four\n",
      "Outsmart\n",
      "An arena that pits LLMs against each other in a battle of diplomacy and deviousness\n",
      "About\n",
      "Posts\n",
      "Get in touch\n",
      "ed [at] edwarddonner [dot] com\n",
      "www.edwarddonner.com\n",
      "Follow me\n",
      "LinkedIn\n",
      "Twitter\n",
      "Facebook\n",
      "Subscribe to newsletter\n",
      "Type your email…\n",
      "Subscribe\n"
     ]
    }
   ],
   "source": [
    "print(title)\n",
    "print(text)"
   ]
  },
  {
   "cell_type": "code",
   "execution_count": 7,
   "id": "4b883fa6-7d9a-4340-8d0e-909fd98fa693",
   "metadata": {},
   "outputs": [],
   "source": [
    "system_prompt = \"\"\"You are an AI assistant which analyzes the contents of a website and provides a short summary, ignoring text that might be navigation related.Respond in Markdown\"\"\"\n",
    "user_prompt = f\"\"\"You are currently looking at {title}. The contents of the website is as follows;Please provide a short summary of this website in markdown.If it includes news or annoucements, then summarize these too.{text}\"\"\""
   ]
  },
  {
   "cell_type": "code",
   "execution_count": 8,
   "id": "9783cfad-8d5e-4bb0-9196-cd51d9c25e0c",
   "metadata": {},
   "outputs": [
    {
     "data": {
      "text/plain": [
       "'You are an AI assistant which analyzes the contents of a website and provides a short summary, ignoring text that might be navigation related.Respond in Markdown'"
      ]
     },
     "execution_count": 8,
     "metadata": {},
     "output_type": "execute_result"
    }
   ],
   "source": [
    "system_prompt"
   ]
  },
  {
   "cell_type": "code",
   "execution_count": 9,
   "id": "fbc1dffc-bd0f-4c31-b81e-09d5589787c7",
   "metadata": {},
   "outputs": [
    {
     "data": {
      "text/plain": [
       "'You are currently looking at Home - Edward Donner. The contents of the website is as follows;Please provide a short summary of this website in markdown.If it includes news or annoucements, then summarize these too.Home\\nConnect Four\\nOutsmart\\nAn arena that pits LLMs against each other in a battle of diplomacy and deviousness\\nAbout\\nPosts\\nWell, hi there.\\nI’m Ed. I like writing code and experimenting with LLMs, and hopefully you’re here because you do too. I also enjoy DJing (but I’m badly out of practice), amateur electronic music production (\\nvery\\namateur) and losing myself in\\nHacker News\\n, nodding my head sagely to things I only half understand.\\nI’m the co-founder and CTO of\\nNebula.io\\n. We’re applying AI to a field where it can make a massive, positive impact: helping people discover their potential and pursue their reason for being. Recruiters use our product today to source, understand, engage and manage talent. I’m previously the founder and CEO of AI startup untapt,\\nacquired in 2021\\n.\\nWe work with groundbreaking, proprietary LLMs verticalized for talent, we’ve\\npatented\\nour matching model, and our award-winning platform has happy customers and tons of press coverage.\\nConnect\\nwith me for more!\\nMay 28, 2025\\nConnecting my courses – become an LLM expert and leader\\nMay 18, 2025\\n2025 AI Executive Briefing\\nApril 21, 2025\\nThe Complete Agentic AI Engineering Course\\nJanuary 23, 2025\\nLLM Workshop – Hands-on with Agents – resources\\nNavigation\\nHome\\nConnect Four\\nOutsmart\\nAn arena that pits LLMs against each other in a battle of diplomacy and deviousness\\nAbout\\nPosts\\nGet in touch\\ned [at] edwarddonner [dot] com\\nwww.edwarddonner.com\\nFollow me\\nLinkedIn\\nTwitter\\nFacebook\\nSubscribe to newsletter\\nType your email…\\nSubscribe'"
      ]
     },
     "execution_count": 9,
     "metadata": {},
     "output_type": "execute_result"
    }
   ],
   "source": [
    "user_prompt"
   ]
  },
  {
   "cell_type": "code",
   "execution_count": 10,
   "id": "c19c5115-8835-40a9-9357-89d81b957337",
   "metadata": {},
   "outputs": [],
   "source": [
    "# Messages\n",
    "\n",
    "# [\n",
    "#     {\"role\":\"system\",\"content\":\"system_message\"},\n",
    "#     {\"role\":\"user\",\"content\":\"user_message\"}\n",
    "# ]\n",
    "\n",
    "messages = [\n",
    "    {\"role\":\"system\",\"content\":system_prompt},\n",
    "    {\"role\":\"user\",\"content\":user_prompt}\n",
    "]"
   ]
  },
  {
   "cell_type": "code",
   "execution_count": 11,
   "id": "087c3d8d-ab62-4814-8b74-348eb64d1e44",
   "metadata": {},
   "outputs": [
    {
     "data": {
      "text/plain": [
       "[{'role': 'system',\n",
       "  'content': 'You are an AI assistant which analyzes the contents of a website and provides a short summary, ignoring text that might be navigation related.Respond in Markdown'},\n",
       " {'role': 'user',\n",
       "  'content': 'You are currently looking at Home - Edward Donner. The contents of the website is as follows;Please provide a short summary of this website in markdown.If it includes news or annoucements, then summarize these too.Home\\nConnect Four\\nOutsmart\\nAn arena that pits LLMs against each other in a battle of diplomacy and deviousness\\nAbout\\nPosts\\nWell, hi there.\\nI’m Ed. I like writing code and experimenting with LLMs, and hopefully you’re here because you do too. I also enjoy DJing (but I’m badly out of practice), amateur electronic music production (\\nvery\\namateur) and losing myself in\\nHacker News\\n, nodding my head sagely to things I only half understand.\\nI’m the co-founder and CTO of\\nNebula.io\\n. We’re applying AI to a field where it can make a massive, positive impact: helping people discover their potential and pursue their reason for being. Recruiters use our product today to source, understand, engage and manage talent. I’m previously the founder and CEO of AI startup untapt,\\nacquired in 2021\\n.\\nWe work with groundbreaking, proprietary LLMs verticalized for talent, we’ve\\npatented\\nour matching model, and our award-winning platform has happy customers and tons of press coverage.\\nConnect\\nwith me for more!\\nMay 28, 2025\\nConnecting my courses – become an LLM expert and leader\\nMay 18, 2025\\n2025 AI Executive Briefing\\nApril 21, 2025\\nThe Complete Agentic AI Engineering Course\\nJanuary 23, 2025\\nLLM Workshop – Hands-on with Agents – resources\\nNavigation\\nHome\\nConnect Four\\nOutsmart\\nAn arena that pits LLMs against each other in a battle of diplomacy and deviousness\\nAbout\\nPosts\\nGet in touch\\ned [at] edwarddonner [dot] com\\nwww.edwarddonner.com\\nFollow me\\nLinkedIn\\nTwitter\\nFacebook\\nSubscribe to newsletter\\nType your email…\\nSubscribe'}]"
      ]
     },
     "execution_count": 11,
     "metadata": {},
     "output_type": "execute_result"
    }
   ],
   "source": [
    "messages"
   ]
  },
  {
   "cell_type": "code",
   "execution_count": 15,
   "id": "ed3b22ed-b524-4b5e-9762-3af372516bd5",
   "metadata": {},
   "outputs": [
    {
     "name": "stdout",
     "output_type": "stream",
     "text": [
      "Here is a short summary of the website:\n",
      "\n",
      "**Summary**\n",
      "Edward Donner's website provides information about his work and expertise in Large Language Models (LLMs). He is the co-founder and CTO of Nebula.io, which applies AI to help people discover their potential and pursue their reason for being. The site also showcases his courses and workshops on LLMs, including a hands-on workshop on agent-based engineering.\n",
      "\n",
      "**News/Announcements**\n",
      "The website includes several news posts and announcements:\n",
      "\n",
      "* May 28, 2025: Connecting my courses – become an LLM expert and leader\n",
      "* May 18, 2025: AI Executive Briefing for 2025\n",
      "* April 21, 2025: The Complete Agentic AI Engineering Course\n",
      "* January 23, 2025: LLM Workshop – Hands-on with Agents – resources\n",
      "\n",
      "**About**\n",
      "The site provides a brief introduction to Edward Donner, including his background in code writing, experimenting with LLMs, and other interests.\n"
     ]
    }
   ],
   "source": [
    "# Api call\n",
    "\n",
    "response = client.chat(\n",
    "    model=\"llama3\",messages=messages)\n",
    "\n",
    "\n",
    "print(response[\"message\"][\"content\"])"
   ]
  },
  {
   "cell_type": "code",
   "execution_count": 17,
   "id": "c20e416d-1419-43fb-9092-316bbae201eb",
   "metadata": {},
   "outputs": [
    {
     "data": {
      "text/markdown": [
       "Here is a short summary of the website:\n",
       "\n",
       "**Summary**\n",
       "Edward Donner's website provides information about his work and expertise in Large Language Models (LLMs). He is the co-founder and CTO of Nebula.io, which applies AI to help people discover their potential and pursue their reason for being. The site also showcases his courses and workshops on LLMs, including a hands-on workshop on agent-based engineering.\n",
       "\n",
       "**News/Announcements**\n",
       "The website includes several news posts and announcements:\n",
       "\n",
       "* May 28, 2025: Connecting my courses – become an LLM expert and leader\n",
       "* May 18, 2025: AI Executive Briefing for 2025\n",
       "* April 21, 2025: The Complete Agentic AI Engineering Course\n",
       "* January 23, 2025: LLM Workshop – Hands-on with Agents – resources\n",
       "\n",
       "**About**\n",
       "The site provides a brief introduction to Edward Donner, including his background in code writing, experimenting with LLMs, and other interests."
      ],
      "text/plain": [
       "<IPython.core.display.Markdown object>"
      ]
     },
     "metadata": {},
     "output_type": "display_data"
    }
   ],
   "source": [
    "display(Markdown(response[\"message\"][\"content\"]))"
   ]
  },
  {
   "cell_type": "code",
   "execution_count": null,
   "id": "f3578afc-33db-496f-85f5-b09b62fed5f7",
   "metadata": {},
   "outputs": [],
   "source": []
  }
 ],
 "metadata": {
  "kernelspec": {
   "display_name": "Python 3 (ipykernel)",
   "language": "python",
   "name": "python3"
  },
  "language_info": {
   "codemirror_mode": {
    "name": "ipython",
    "version": 3
   },
   "file_extension": ".py",
   "mimetype": "text/x-python",
   "name": "python",
   "nbconvert_exporter": "python",
   "pygments_lexer": "ipython3",
   "version": "3.13.7"
  }
 },
 "nbformat": 4,
 "nbformat_minor": 5
}
