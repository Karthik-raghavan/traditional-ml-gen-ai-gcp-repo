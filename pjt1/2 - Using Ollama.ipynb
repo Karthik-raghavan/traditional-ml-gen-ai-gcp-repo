{
 "cells": [
  {
   "cell_type": "code",
   "execution_count": 1,
   "id": "266aa6b0-8664-4ceb-95d8-e2bb462efb42",
   "metadata": {},
   "outputs": [],
   "source": [
    "# Importing Required Libraries\n",
    "\n",
    "import os\n",
    "import requests\n",
    "from dotenv import load_dotenv\n",
    "from bs4 import BeautifulSoup\n",
    "from IPython.display import Markdown, display\n",
    "from openai import OpenAI\n",
    "import ollama"
   ]
  },
  {
   "cell_type": "code",
   "execution_count": 2,
   "id": "aa1c53f0-1464-427d-9597-9ec2ba3cab06",
   "metadata": {},
   "outputs": [],
   "source": [
    "OLLAMA_API_KEY=\"http://localhost:11434/api/chat\"\n",
    "HEADERS={\"Content-Type\":\"application/json\"}\n",
    "MODEL=\"llama3\""
   ]
  },
  {
   "cell_type": "code",
   "execution_count": 3,
   "id": "d3522c9f-e2b3-4d60-9a3d-1a32babc1e4e",
   "metadata": {},
   "outputs": [],
   "source": [
    "messages = [\n",
    "    {\"role\":\"user\",\"content\":\"Describe some of the business applications of Generative AI\"}\n",
    "]"
   ]
  },
  {
   "cell_type": "code",
   "execution_count": 4,
   "id": "a1390615-8c8b-4048-9095-f7a6c286aa96",
   "metadata": {},
   "outputs": [],
   "source": [
    "payload = {\n",
    "    \"model\":MODEL,\n",
    "    \"messages\":messages,\n",
    "    \"stream\":False\n",
    "}"
   ]
  },
  {
   "cell_type": "code",
   "execution_count": 5,
   "id": "ba1608e9-32e8-4ef8-b1c9-1a0118f4053a",
   "metadata": {},
   "outputs": [
    {
     "name": "stdout",
     "output_type": "stream",
     "text": [
      "Generative AI, a subfield of artificial intelligence that involves creating new, original content such as text, images, music, or videos, has numerous business applications across various industries. Some examples include:\n",
      "\n",
      "1. **Content Generation**: Generative AI can be used to create high-quality, engaging content quickly and efficiently, reducing the need for human writers, designers, or artists. This can be particularly useful for marketing campaigns, social media, and online publishing.\n",
      "2. **Product Description Generation**: E-commerce companies can use generative AI to automatically generate product descriptions, reducing the workload on human writers and improving customer experience.\n",
      "3. **Chatbots and Virtual Assistants**: Generative AI can power conversational interfaces like chatbots and virtual assistants, enabling them to understand and respond to user queries in a more natural and human-like way.\n",
      "4. **Data Analysis and Visualization**: Generative AI can be used to create interactive and dynamic data visualizations, helping businesses make sense of complex data sets and identify trends and patterns.\n",
      "5. **Marketing Automation**: Generative AI can automate marketing tasks such as email campaigns, social media posting, and content creation, freeing up human marketers to focus on strategy and creative direction.\n",
      "6. **Product Recommendation Engines**: Generative AI-powered recommendation engines can analyze customer behavior and preferences to suggest relevant products or services, improving customer satisfaction and loyalty.\n",
      "7. **Customer Service Chatbots**: Generative AI can be used to create chatbots that can understand and respond to customer inquiries in a natural language understanding (NLU) manner, reducing the need for human customer support agents.\n",
      "8. **Content Moderation**: Generative AI can help automate content moderation processes by identifying and flagging inappropriate or harmful content, freeing up human moderators to focus on more complex issues.\n",
      "9. **Social Media Monitoring**: Generative AI can monitor social media conversations in real-time, analyzing sentiment and trends to provide businesses with valuable insights and actionable recommendations.\n",
      "10. **Creative Industries**: Generative AI has the potential to revolutionize creative industries such as music, art, film, and literature by enabling the creation of new, original content that is unique and human-like.\n",
      "11. **Healthcare**: Generative AI can be used in healthcare to generate personalized treatment plans, create medical reports, and assist with diagnosis and patient engagement.\n",
      "12. **Finance**: Generative AI can be used in finance to generate financial reports, analyze market trends, and create personalized investment portfolios.\n",
      "13. **Manufacturing**: Generative AI can be used in manufacturing to optimize production processes, design new products, and predict maintenance needs.\n",
      "14. **Education**: Generative AI can be used in education to create personalized learning materials, grading systems, and virtual teaching assistants.\n",
      "\n",
      "These are just a few examples of the many business applications of generative AI. As this technology continues to evolve and improve, we can expect to see even more innovative uses across various industries.\n"
     ]
    }
   ],
   "source": [
    "response = requests.post(OLLAMA_API_KEY,json=payload,headers=HEADERS)\n",
    "print(response.json()[\"message\"][\"content\"])"
   ]
  },
  {
   "cell_type": "markdown",
   "id": "c02007bb-0fa3-43a6-9f38-2a026ce72db3",
   "metadata": {},
   "source": [
    "### Direct Ollama library"
   ]
  },
  {
   "cell_type": "code",
   "execution_count": 6,
   "id": "f3578afc-33db-496f-85f5-b09b62fed5f7",
   "metadata": {},
   "outputs": [
    {
     "name": "stdout",
     "output_type": "stream",
     "text": [
      "Generative AI has numerous business applications across various industries. Here are some examples:\n",
      "\n",
      "1. **Content Generation**: Generative AI can generate high-quality content, such as blog posts, product descriptions, and social media posts, at scale and speed. This can help businesses save time and resources on content creation.\n",
      "2. **Marketing Automation**: Generative AI-powered marketing automation tools can create personalized ads, email campaigns, and social media posts based on customer data and preferences.\n",
      "3. **Product Design and Development**: Generative AI can aid in product design and development by generating new ideas, concepts, and prototypes. This can help businesses reduce the time and cost associated with traditional design processes.\n",
      "4. **Customer Service Chatbots**: Generative AI-powered chatbots can provide personalized customer service by generating responses to common questions and concerns.\n",
      "5. **Predictive Maintenance**: Generative AI can analyze equipment performance data and generate predictive maintenance schedules, reducing downtime and increasing overall efficiency.\n",
      "6. **Data Analysis and Visualization**: Generative AI can assist in data analysis and visualization by identifying patterns, generating insights, and creating interactive dashboards.\n",
      "7. **Automated Reporting**: Generative AI-powered reporting tools can generate customized reports, saving time and effort for businesses that need to track key performance indicators (KPIs).\n",
      "8. **Sales Forecasting**: Generative AI can analyze sales data and generate forecasts, helping businesses make informed decisions about inventory management, pricing, and resource allocation.\n",
      "9. **HR and Recruitment**: Generative AI-powered recruitment tools can help match job candidates with job openings based on skills, experience, and preferences.\n",
      "10. **Supply Chain Optimization**: Generative AI can optimize supply chain operations by predicting demand, identifying bottlenecks, and generating schedules for logistics and transportation.\n",
      "11. **Financial Forecasting**: Generative AI can analyze financial data and generate forecasts, helping businesses make informed decisions about investments, funding, and risk management.\n",
      "12. **Customer Segmentation**: Generative AI-powered customer segmentation tools can identify distinct customer groups based on behavior, preferences, and demographics.\n",
      "13. **Cybersecurity**: Generative AI-powered cybersecurity tools can detect and respond to cyber threats by generating customized threat profiles and mitigation strategies.\n",
      "14. **Personalized Product Recommendations**: Generative AI-powered recommendation engines can suggest products or services based on customer behavior, purchase history, and preferences.\n",
      "15. **Social Media Monitoring**: Generative AI-powered social media monitoring tools can track brand mentions, sentiment analysis, and influencer identification to help businesses manage their online reputation.\n",
      "\n",
      "These are just a few examples of the many business applications of generative AI. As this technology continues to evolve, we can expect even more innovative use cases across various industries.\n"
     ]
    }
   ],
   "source": [
    "response = ollama.chat(model=MODEL, messages=messages)\n",
    "print(response[\"message\"][\"content\"])"
   ]
  },
  {
   "cell_type": "code",
   "execution_count": null,
   "id": "fc61a6cc-fb87-40b7-a9f0-1f43128d01af",
   "metadata": {},
   "outputs": [],
   "source": []
  },
  {
   "cell_type": "code",
   "execution_count": null,
   "id": "2ebb8a58-a943-466f-8125-675388b6edac",
   "metadata": {},
   "outputs": [],
   "source": []
  }
 ],
 "metadata": {
  "kernelspec": {
   "display_name": "Python 3 (ipykernel)",
   "language": "python",
   "name": "python3"
  },
  "language_info": {
   "codemirror_mode": {
    "name": "ipython",
    "version": 3
   },
   "file_extension": ".py",
   "mimetype": "text/x-python",
   "name": "python",
   "nbconvert_exporter": "python",
   "pygments_lexer": "ipython3",
   "version": "3.13.7"
  }
 },
 "nbformat": 4,
 "nbformat_minor": 5
}
